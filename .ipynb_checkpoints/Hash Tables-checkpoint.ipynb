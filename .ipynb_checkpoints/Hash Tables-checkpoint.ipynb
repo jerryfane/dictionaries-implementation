{
 "cells": [
  {
   "cell_type": "markdown",
   "metadata": {},
   "source": [
    "# 1.0 First Implementation: Hash Tables\n",
    "\n",
    "Summary: we have a key, we send it through an hash function that it is going to hashing it really fast and then map the output into a memory address where we will store our data. \n",
    "\n",
    "### Time Complexity:\n",
    " - Insert: O(1)\n",
    " - Lookup: O(1)\n",
    " - Delete: O(1)\n",
    " - Search: O(1)\n",
    " \n",
    "\n",
    "### How to Implement Hash Tables\n",
    "1. Use a fast Hash Function. Eg. SHA-256 takes a very long time to compute the hash and it is overly complex.\n",
    "2. Implement Linked-List to solve Hash Collisions"
   ]
  },
  {
   "cell_type": "markdown",
   "metadata": {},
   "source": [
    "## 1.1 TEST"
   ]
  },
  {
   "cell_type": "code",
   "execution_count": 3,
   "metadata": {},
   "outputs": [],
   "source": [
    "mutable struct hash_table\n",
    "    data::Vector{Int64}\n",
    "    key::String\n",
    "end"
   ]
  },
  {
   "cell_type": "code",
   "execution_count": 4,
   "metadata": {},
   "outputs": [
    {
     "data": {
      "text/plain": [
       "hash_table([1, 2, 3], \"ciao\")"
      ]
     },
     "execution_count": 4,
     "metadata": {},
     "output_type": "execute_result"
    }
   ],
   "source": [
    "hash_t = hash_table([1,2,3], \"ciao\")"
   ]
  },
  {
   "cell_type": "code",
   "execution_count": 5,
   "metadata": {},
   "outputs": [
    {
     "ename": "LoadError",
     "evalue": "\u001b[91msyntax: invalid function name \"hash(hash_t::hash_table)\" around In[5]:1\u001b[39m",
     "output_type": "error",
     "traceback": [
      "\u001b[91msyntax: invalid function name \"hash(hash_t::hash_table)\" around In[5]:1\u001b[39m",
      "",
      "Stacktrace:",
      " [1] top-level scope at In[5]:1",
      " [2] include_string(::Function, ::Module, ::String, ::String) at ./loading.jl:1091"
     ]
    }
   ],
   "source": [
    "function hash(hash_t::hash_table)()\n",
    "    hash = 0\n",
    "    for i in 1:length(key)\n",
    "        hash = (hash + Int(key[i]) * i) % length(hash.data)\n",
    "    end\n",
    "    return hash\n",
    "end"
   ]
  },
  {
   "cell_type": "code",
   "execution_count": null,
   "metadata": {},
   "outputs": [],
   "source": [
    "function hash(HT::hash_table, key::String)\n",
    "    hash = 0\n",
    "    for i in 1:length(key)\n",
    "        hash = (hash + Int(key[i]) * i) % HT.data\n",
    "    "
   ]
  },
  {
   "cell_type": "code",
   "execution_count": null,
   "metadata": {},
   "outputs": [],
   "source": [
    "key = \"ciao\""
   ]
  },
  {
   "cell_type": "code",
   "execution_count": null,
   "metadata": {},
   "outputs": [],
   "source": [
    "length(key)"
   ]
  },
  {
   "cell_type": "code",
   "execution_count": null,
   "metadata": {},
   "outputs": [],
   "source": [
    "for i in 1:length(key)\n",
    "    println(Int(key[i]))\n",
    "end"
   ]
  },
  {
   "cell_type": "code",
   "execution_count": null,
   "metadata": {},
   "outputs": [],
   "source": []
  }
 ],
 "metadata": {
  "kernelspec": {
   "display_name": "Julia 1.5.4",
   "language": "julia",
   "name": "julia-1.5"
  },
  "language_info": {
   "file_extension": ".jl",
   "mimetype": "application/julia",
   "name": "julia",
   "version": "1.5.4"
  }
 },
 "nbformat": 4,
 "nbformat_minor": 4
}
