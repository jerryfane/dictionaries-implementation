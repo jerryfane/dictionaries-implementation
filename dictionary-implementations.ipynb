{
 "cells": [
  {
   "cell_type": "markdown",
   "metadata": {},
   "source": [
    "# Python Dictionaries Implementation\n",
    "\n",
    "*Implement dictionaries with different data structures (red-black trees and hash tables) from scratch and analyze their performance in different scenarios*\n",
    "\n",
    "### Exam Notes\n",
    "\n",
    "About the presentation:\n",
    "\n",
    "- It should be 15-20 minutes, with additional 5 minutes of questions (either during the talk or afterwards)\n",
    "\n",
    "- Your presentation should focus on the algorithmic part of whatever you chose\n",
    "\n",
    "- Questions can also be about the related parts in the course (if your algorithm uses, e.g., a binary search tree, we might ask you about properties and applications of binary search trees)"
   ]
  },
  {
   "cell_type": "markdown",
   "metadata": {},
   "source": [
    "## 1.0 First Implementation: Hash Tables\n",
    "\n",
    "Summary: we have a key, we send it through an hash function that it is going to hashing it really fast and then map the output into a memory address where we will store our data. \n",
    "\n",
    "### Time Complexity:\n",
    " - Insert: O(1)\n",
    " - Lookup: O(1)\n",
    " - Delete: O(1)\n",
    " - Search: O(1)\n",
    " \n",
    "\n",
    "### How to Implement Hash Tables\n",
    "1. Use a fast Hash Function. Eg. SHA-256 takes a very long time to compute the hash and it is overly complex.\n",
    "2. Implement Linked-List to solve Hash Collisions\n"
   ]
  },
  {
   "cell_type": "markdown",
   "metadata": {},
   "source": [
    "### 1.1 Naive Hash Function"
   ]
  },
  {
   "cell_type": "code",
   "execution_count": 1,
   "metadata": {},
   "outputs": [],
   "source": [
    "class HashTable():\n",
    "\n",
    "    def __init__(self, size):\n",
    "        #initiliaze the data array\n",
    "        self.data = [None] * size\n",
    "    \n",
    "    # O(1))\n",
    "    def _hash(self, key):\n",
    "        hash_value = 0\n",
    "        for i in range(len(key)):\n",
    "            hash_value = (hash_value + ord(key[i]) * i) % len(self.data)\n",
    "        return hash_value\n",
    "    \n",
    "    # O(1)\n",
    "    def set(self, key, value):\n",
    "        # address: where we want to store the information\n",
    "        # through the _hash function\n",
    "        address = self._hash(key)\n",
    "        \n",
    "        # if the space in address is still empty, assign 'value'\n",
    "        if not self.data[address]:\n",
    "            self.data[address] = [(key, value)]\n",
    "        else:\n",
    "            self.data[address].append((key, value))\n",
    "    \n",
    "    # If no collision: O(1)\n",
    "    def get(self, key):\n",
    "        # find the address of the given key, through the _hash function\n",
    "        address = self._hash(key)    \n",
    "        current_list = self.data[address]\n",
    "        \n",
    "        # if there is something at this address return saved value\n",
    "        if current_list:\n",
    "            # Loop over the items saved at address\n",
    "            # O(N) worst case with collisions\n",
    "            for i in range(len(current_list)):\n",
    "                if current_list[i][0] == key:\n",
    "                    return current_list[i][1]\n",
    "            raise Exception(\"Key not found\")\n",
    "        else:\n",
    "            raise Exception(\"Key not found\")\n",
    "\n",
    "            \n",
    "    # iterate over the saved keys on our Hash Table\n",
    "    # That's a drawback of hashtables, we have to loop over \n",
    "    # each space even if it's empty and they are unordered\n",
    "    def keys(self):\n",
    "        keys_array = []\n",
    "        \n",
    "        # loop over the spaces of self.data \n",
    "        for i in range(len(self.data)):\n",
    "            # if array is saved in space, loop over and append keys\n",
    "            if self.data[i]:\n",
    "                \n",
    "                if len(self.data[i]) > 1:\n",
    "                    for j in range(len(self.data[i])):\n",
    "                        keys_array.append(self.data[i][j][0])\n",
    "                else:\n",
    "                    keys_array.append(self.data[i][0][0])\n",
    "        \n",
    "        return keys_array\n",
    "        "
   ]
  },
  {
   "cell_type": "code",
   "execution_count": 2,
   "metadata": {},
   "outputs": [],
   "source": [
    "myHashTable = HashTable(2)"
   ]
  },
  {
   "cell_type": "code",
   "execution_count": 3,
   "metadata": {},
   "outputs": [],
   "source": [
    "myHashTable.set('grapes', 1400)\n",
    "myHashTable.set('apples', 100)\n",
    "myHashTable.set('oranges', 500)"
   ]
  },
  {
   "cell_type": "code",
   "execution_count": 4,
   "metadata": {},
   "outputs": [
    {
     "data": {
      "text/plain": [
       "1400"
      ]
     },
     "execution_count": 4,
     "metadata": {},
     "output_type": "execute_result"
    }
   ],
   "source": [
    "myHashTable.get('grapes')"
   ]
  },
  {
   "cell_type": "code",
   "execution_count": 5,
   "metadata": {},
   "outputs": [
    {
     "data": {
      "text/plain": [
       "100"
      ]
     },
     "execution_count": 5,
     "metadata": {},
     "output_type": "execute_result"
    }
   ],
   "source": [
    "myHashTable.get('apples')"
   ]
  },
  {
   "cell_type": "code",
   "execution_count": 6,
   "metadata": {},
   "outputs": [
    {
     "data": {
      "text/plain": [
       "500"
      ]
     },
     "execution_count": 6,
     "metadata": {},
     "output_type": "execute_result"
    }
   ],
   "source": [
    "myHashTable.get('oranges')"
   ]
  },
  {
   "cell_type": "code",
   "execution_count": 7,
   "metadata": {},
   "outputs": [
    {
     "data": {
      "text/plain": [
       "['grapes', 'apples', 'oranges']"
      ]
     },
     "execution_count": 7,
     "metadata": {},
     "output_type": "execute_result"
    }
   ],
   "source": [
    "myHashTable.keys()"
   ]
  },
  {
   "cell_type": "code",
   "execution_count": 8,
   "metadata": {},
   "outputs": [
    {
     "ename": "Exception",
     "evalue": "Key not found",
     "output_type": "error",
     "traceback": [
      "\u001b[0;31m---------------------------------------------------------------------------\u001b[0m",
      "\u001b[0;31mException\u001b[0m                                 Traceback (most recent call last)",
      "\u001b[0;32m<ipython-input-8-f5b1dd87e599>\u001b[0m in \u001b[0;36m<module>\u001b[0;34m\u001b[0m\n\u001b[0;32m----> 1\u001b[0;31m \u001b[0mmyHashTable\u001b[0m\u001b[0;34m.\u001b[0m\u001b[0mget\u001b[0m\u001b[0;34m(\u001b[0m\u001b[0;34m'banana'\u001b[0m\u001b[0;34m)\u001b[0m\u001b[0;34m\u001b[0m\u001b[0;34m\u001b[0m\u001b[0m\n\u001b[0m",
      "\u001b[0;32m<ipython-input-1-ae4686b9b7b8>\u001b[0m in \u001b[0;36mget\u001b[0;34m(self, key)\u001b[0m\n\u001b[1;32m     37\u001b[0m                 \u001b[0;32mif\u001b[0m \u001b[0mcurrent_list\u001b[0m\u001b[0;34m[\u001b[0m\u001b[0mi\u001b[0m\u001b[0;34m]\u001b[0m\u001b[0;34m[\u001b[0m\u001b[0;36m0\u001b[0m\u001b[0;34m]\u001b[0m \u001b[0;34m==\u001b[0m \u001b[0mkey\u001b[0m\u001b[0;34m:\u001b[0m\u001b[0;34m\u001b[0m\u001b[0;34m\u001b[0m\u001b[0m\n\u001b[1;32m     38\u001b[0m                     \u001b[0;32mreturn\u001b[0m \u001b[0mcurrent_list\u001b[0m\u001b[0;34m[\u001b[0m\u001b[0mi\u001b[0m\u001b[0;34m]\u001b[0m\u001b[0;34m[\u001b[0m\u001b[0;36m1\u001b[0m\u001b[0;34m]\u001b[0m\u001b[0;34m\u001b[0m\u001b[0;34m\u001b[0m\u001b[0m\n\u001b[0;32m---> 39\u001b[0;31m             \u001b[0;32mraise\u001b[0m \u001b[0mException\u001b[0m\u001b[0;34m(\u001b[0m\u001b[0;34m\"Key not found\"\u001b[0m\u001b[0;34m)\u001b[0m\u001b[0;34m\u001b[0m\u001b[0;34m\u001b[0m\u001b[0m\n\u001b[0m\u001b[1;32m     40\u001b[0m         \u001b[0;32melse\u001b[0m\u001b[0;34m:\u001b[0m\u001b[0;34m\u001b[0m\u001b[0;34m\u001b[0m\u001b[0m\n\u001b[1;32m     41\u001b[0m             \u001b[0;32mraise\u001b[0m \u001b[0mException\u001b[0m\u001b[0;34m(\u001b[0m\u001b[0;34m\"Key not found\"\u001b[0m\u001b[0;34m)\u001b[0m\u001b[0;34m\u001b[0m\u001b[0;34m\u001b[0m\u001b[0m\n",
      "\u001b[0;31mException\u001b[0m: Key not found"
     ]
    }
   ],
   "source": [
    "myHashTable.get('banana')"
   ]
  },
  {
   "cell_type": "markdown",
   "metadata": {},
   "source": [
    "## 2.0 Second Implementation: Red Black Trees\n",
    "\n",
    "[Red Black Trees Explanation](https://medium.com/basecs/painting-nodes-black-with-red-black-trees-60eacb2be9a5)\n",
    "\n",
    "> A red-black tree is a type of self-balancing binary search tree, very similar to other self-balancing trees, such as AVL trees. However, a red-black tree is a structure that has to adhere to a very strict set of rules in order to make sure that it stays balanced; the rules of a red-black tree are exactly what enables it to maintain a guaranteed logarithmic time complexity.\n",
    "\n",
    "1. Every single node in the tree must be either red or black.\n",
    "2. The root node of the tree must always be black.\n",
    "3. Two red nodes can never appear consecutively, one after another; a red node must always be preceded by a black node (it must have a black parent node), and a red node must always have black children nodes.\n",
    "4. Every branch path — the path from a root node to an empty (null) leaf node — must pass through the exact same number of black nodes. A branch path from the root to an empty leaf node is also known as an unsuccessful search path, since it represents the path we would take if we were to search for a node that didn’t exist within the tree.\n",
    "\n",
    "[*Why Red Black Trees?*](https://stackoverflow.com/questions/13852870/red-black-tree-over-avl-tree)\n",
    "\n",
    "> Both red-black trees and AVL trees are the most commonly used balanced binary search trees and they support insertion, deletion and look-up in guaranteed O(logN) time. However, there are following points of comparison between the two:\n",
    "\n",
    "> AVL trees are more rigidly balanced and hence provide faster look-ups. Thus for a look-up intensive task use an AVL tree.\n",
    "For an insert intensive tasks, use a Red-Black tree.\n",
    "AVL trees store the balance factor at each node. This takes O(N) extra space. However, if we know that the keys that will be inserted in the tree will always be greater than zero, we can use the sign bit of the keys to store the colour information of a red-black tree. Thus, in such cases red-black tree takes no extra space.\n",
    "What are the application of Red black tree?\n",
    "Red-black trees are more general purpose. They do relatively well on add, remove, and look-up but AVL trees have faster look-ups at the cost of slower add/remove.\n",
    "\n",
    "### Notes:\n",
    " 1. it’s easiest to start off by always inserting a red node, and then recoloring and rotation as necessary, afterwards\n",
    " \n",
    " \n",
    " \n",
    "2. https://stackoverflow.com/questions/17279805/how-do-i-implement-a-hashtable-using-a-binary-search-tree\n",
    "\n",
    "> No, we do not need to calculate an index or use a hashing function. If we store the key,value pairs in the nodes of the bst, then its just a matter of traversing the tree by comparing the keys. This also gives you the added advantage of no collisions since the keys are unique.\n",
    "\n",
    "> You could use a hashing function and hash the key and then traverse the tree based on that value but this can lead to collisions if you are not careful with the hash function and then you would have to maintain some sort of chaining.\n",
    "\n",
    "> Whether to use the key or the hashed value of the key depends on the size of the key. If the key size is large, it makes sense to hash it to a smaller size for faster comparison."
   ]
  },
  {
   "cell_type": "markdown",
   "metadata": {},
   "source": [
    "Red Black Tree code inspired from: https://github.com/stanislavkozlovski/Red-Black-Tree"
   ]
  },
  {
   "cell_type": "code",
   "execution_count": 12,
   "metadata": {},
   "outputs": [],
   "source": [
    "BLACK = 'BLACK'\n",
    "RED = 'RED'\n",
    "NIL = 'NIL'"
   ]
  },
  {
   "cell_type": "code",
   "execution_count": 11,
   "metadata": {},
   "outputs": [],
   "source": [
    "class Node:\n",
    "    \n",
    "    def __init__(self, value, color, parent, left=None, right=None):\n",
    "        self.value = value\n",
    "        self.color = color\n",
    "        self.parent = parent\n",
    "        self.left = left\n",
    "        self.right = right "
   ]
  },
  {
   "cell_type": "code",
   "execution_count": null,
   "metadata": {},
   "outputs": [],
   "source": [
    "class RedBlackTree:\n",
    "    NIL_LEAF = Node(value=None, color=NIL, parent=None)\n",
    "    \n",
    "    def __init__(self):\n",
    "        self.count = 0\n",
    "        self.root = None     \n",
    "    \n",
    "    def add(self, value):\n",
    "        # if root has still no value\n",
    "        if not self.root:\n",
    "            self.root = Node(value, color=BLACK, parent=None,\n",
    "                            left=self.NIL_LEAF, right=self.NIL_LEAF)\n",
    "            self.count +=1\n",
    "            return\n",
    "        \n",
    "        parent, node_dir = self._find_parent(value)\n",
    "        if node_dir is Noone:\n",
    "            return # value is in the tree\n",
    "        \n",
    "        new_node = Node(value=value, color=RED, parent=parent,\n",
    "                        left=self.NIL_LEAF, right=self.NIL_LEAF)\n",
    "        if node_dir == 'L':\n",
    "            parent.left = new_node\n",
    "        else:\n",
    "            parent.right = new_node\n",
    "        \n",
    "        self._try_rebalance(new_node)\n",
    "        self.count +=1\n",
    "            \n",
    "    def _try_rebalance(self, node):\n",
    "        \"\"\"\n",
    "        Given a red child node, determine if there is a need to rebalance (if the parent is red)\n",
    "        If there is, rebalance it\n",
    "        \"\"\"\n",
    "        parent = node.parent\n",
    "        value = node.value\n",
    "        if (parent is None # should never happen\n",
    "           or parent.parent is None #parent is the root\n",
    "           or (node.colore != RED or parent.color != RED)): # no need to rebalance\n",
    "            return\n",
    "        grandfather = parent.parent\n",
    "        node_dir = 'L' if parent.value > value else 'R'\n",
    "        parent_dir = 'L' if grandfather.value > parent.value else 'R'\n",
    "        uncle = grandfather.right if parent_dir == 'L' else grandfather.left\n",
    "        general_direction = node_dir + parent_dir\n",
    "        \n",
    "        if uncle == self.NIL_LEAF or uncle.color == BLACK:\n",
    "            #rotate\n",
    "            if general_direction == 'LL':\n",
    "                self._right_rotation(node, parent, grandfather, to_recolor=True)\n",
    "            elif general_direction == 'RR':\n",
    "                self._left_rotation(node, parent, grandfather, to_recolor=True)\n",
    "            elif general_direction == 'LR':\n",
    "                self._right_rotation(node=None, parent=node, grandfather=parent)\n",
    "                # due to the prev rotation, our node is now the parent\n",
    "                self._left_rotation(node=parent, parent=node, grandfather=grandfather, to_recolor=True)\n",
    "            elif general_direction == 'RL':\n",
    "                self._left_rotation(node=None, parent=node, grandfather=parent)\n",
    "                # due to the prev rotation, our node is now the parent\n",
    "                self._right_rotation(node=parent, parent=node, grandfather=grandfather, to_recolor=True)\n",
    "            else:\n",
    "                raise Exception(\"{} is not a valid direction!\".format(general_direction))\n",
    "                \n",
    "        else: # uncle is RED\n",
    "            self._recolor(grandfather)\n",
    "    \n",
    "    def _right_rotation(self, node, parent, grandfather, to_recolor=False):\n",
    "        grand_grandfather = grandfather.parent\n",
    "        self.__update_parent(node=parent, parent_old_child=grandfather, new_parent=grand_grandfather)\n",
    "\n",
    "        old_right = parent.right\n",
    "        parent.right = grandfather\n",
    "        grandfather.parent = parent\n",
    "\n",
    "        grandfather.left = old_right  # save the old right values\n",
    "        old_right.parent = grandfather\n",
    "\n",
    "        if to_recolor:\n",
    "            parent.color = BLACK\n",
    "            node.color = RED\n",
    "            grandfather.color = RED\n",
    "    \n",
    "    def _left_rotation(self, node, parent, grandfather, to_recolor=False):\n",
    "        grand_grandfather = grandfather.parent\n",
    "        self.__update_parent(node=parent, parent_old_child=grandfather, new_parent=grand_grandfather)\n",
    "\n",
    "        old_left = parent.left\n",
    "        parent.left = grandfather\n",
    "        grandfather.parent = parent\n",
    "\n",
    "        grandfather.right = old_left  # save the old left values\n",
    "        old_left.parent = grandfather\n",
    "\n",
    "        if to_recolor:\n",
    "            parent.color = BLACK\n",
    "            node.color = RED\n",
    "            grandfather.color = RED\n",
    "            \n",
    "    def _recolor(self, grandfather):\n",
    "        grandfather.right.color = BLACK\n",
    "        grandfather.left.color = BLACK\n",
    "        if grandfather != self.root:\n",
    "            grandfather.color = RED\n",
    "        self._try_rebalance(grandfather)\n",
    "    \n",
    "    def __update_parent(self, node, parent_old_child, new_parent):\n",
    "        \"\"\"\n",
    "        Our node 'switches' places with the old child\n",
    "        Assigns a new parent to the node.\n",
    "        If the new_parent is None, this means that our node becomes the root of the tree\n",
    "        \"\"\"\n",
    "        node.parent = new_parent\n",
    "        if new_parent:\n",
    "            # Determine the old child's position in order to put node there\n",
    "            if new_parent.value > parent_old_child.value:\n",
    "                new_parent.left = node\n",
    "            else:\n",
    "                new_parent.right = node\n",
    "        else:\n",
    "            self.root = node\n",
    "    \n",
    "    def _find_parent(self, value):\n",
    "        \"\"\" Finds a place for the value in our binary tree\"\"\"\n",
    "        def inner_find(parent):\n",
    "            \"\"\"\n",
    "            Return the appropriate parent node for our \n",
    "            new node as well as the side it should be on\n",
    "            \"\"\"\n",
    "            if value == parent.value:\n",
    "                return None, None\n",
    "            elif parent.value < value:\n",
    "                if parent.right.color == NIL: # no more to go\n",
    "                    return parent, 'R'\n",
    "                return inner_find(parent.right)\n",
    "            elif value < parent.value:\n",
    "                if parent.left.color == NIL: # no more to go\n",
    "                    return parent, 'L'\n",
    "                return inner_find(parent.left)\n",
    "            \n",
    "        return inner_find(self.root)\n",
    "                "
   ]
  }
 ],
 "metadata": {
  "kernelspec": {
   "display_name": "Python 3",
   "language": "python",
   "name": "python3"
  },
  "language_info": {
   "codemirror_mode": {
    "name": "ipython",
    "version": 3
   },
   "file_extension": ".py",
   "mimetype": "text/x-python",
   "name": "python",
   "nbconvert_exporter": "python",
   "pygments_lexer": "ipython3",
   "version": "3.9.1"
  }
 },
 "nbformat": 4,
 "nbformat_minor": 4
}
