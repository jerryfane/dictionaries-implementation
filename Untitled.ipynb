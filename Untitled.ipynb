{
 "cells": [
  {
   "cell_type": "markdown",
   "metadata": {},
   "source": [
    "# 1.0 First Implementation: Hash Tables\n",
    "\n",
    "Summary: we have a key, we send it through an hash function that it is going to hashing it really fast and then map the output into a memory address where we will store our data. \n",
    "\n",
    "### Time Complexity:\n",
    " - Insert: O(1)\n",
    " - Lookup: O(1)\n",
    " - Delete: O(1)\n",
    " - Search: O(1)\n",
    " \n",
    "\n",
    "### How to Implement Hash Tables\n",
    "1. Use a fast Hash Function. Eg. SHA-256 takes a very long time to compute the hash and it is overly complex.\n",
    "2. Implement Linked-List to solve Hash Collisions"
   ]
  },
  {
   "cell_type": "markdown",
   "metadata": {},
   "source": [
    "## 1.1 TEST"
   ]
  },
  {
   "cell_type": "code",
   "execution_count": 100,
   "metadata": {},
   "outputs": [],
   "source": [
    "class HashTable():\n",
    "\n",
    "    def __init__(self, size):\n",
    "        #initiliaze the data array\n",
    "        self.data = [None] * size\n",
    "    \n",
    "    # O(1))\n",
    "    def _hash(self, key):\n",
    "        hash_value = 0\n",
    "        for i in range(len(key)):\n",
    "            hash_value = (hash_value + ord(key[i]) * i) % len(self.data)\n",
    "        return hash_value\n",
    "    \n",
    "    # O(1)\n",
    "    def set(self, key, value):\n",
    "        # address: where we want to store the information\n",
    "        # through the _hash function\n",
    "        address = self._hash(key)\n",
    "        \n",
    "        # if the space in address is still empty, assign 'value'\n",
    "        if not self.data[address]:\n",
    "            self.data[address] = [(key, value)]\n",
    "        else:\n",
    "            self.data[address].append((key, value))\n",
    "    \n",
    "    # If no collision: O(1)\n",
    "    def get(self, key):\n",
    "        # find the address of the given key, through the _hash function\n",
    "        address = self._hash(key)    \n",
    "        current_list = self.data[address]\n",
    "        \n",
    "        # if there is something at this address return saved value\n",
    "        if current_list:\n",
    "            # Loop over the items saved at address\n",
    "            # O(N) worst case with collisions\n",
    "            for i in range(len(current_list)):\n",
    "                if current_list[i][0] == key:\n",
    "                    return current_list[i][1]\n",
    "            raise Exception(\"Key not found\")\n",
    "        else:\n",
    "            raise Exception(\"Key not found\")\n",
    "\n",
    "            \n",
    "    # iterate over the saved keys on our Hash Table\n",
    "    # That's a drawback of hashtables, we have to loop over \n",
    "    # each space even if it's empty and they are unordered\n",
    "    def keys(self):\n",
    "        keys_array = []\n",
    "        \n",
    "        # loop over the spaces of self.data \n",
    "        for i in range(len(self.data)):\n",
    "            # if array is saved in space, loop over and append keys\n",
    "            if self.data[i]:\n",
    "                \n",
    "                if len(self.data[i]) > 1:\n",
    "                    for j in range(len(self.data[i])):\n",
    "                        keys_array.append(self.data[i][j][0])\n",
    "                else:\n",
    "                    keys_array.append(self.data[i][0][0])\n",
    "        \n",
    "        return keys_array\n",
    "        "
   ]
  },
  {
   "cell_type": "code",
   "execution_count": 101,
   "metadata": {},
   "outputs": [],
   "source": [
    "myHashTable = HashTable(2)"
   ]
  },
  {
   "cell_type": "code",
   "execution_count": 102,
   "metadata": {},
   "outputs": [],
   "source": [
    "myHashTable.set('grapes', 1400)\n",
    "myHashTable.set('apples', 100)\n",
    "myHashTable.set('oranges', 500)"
   ]
  },
  {
   "cell_type": "code",
   "execution_count": 103,
   "metadata": {},
   "outputs": [
    {
     "data": {
      "text/plain": [
       "1400"
      ]
     },
     "execution_count": 103,
     "metadata": {},
     "output_type": "execute_result"
    }
   ],
   "source": [
    "myHashTable.get('grapes')"
   ]
  },
  {
   "cell_type": "code",
   "execution_count": 104,
   "metadata": {},
   "outputs": [
    {
     "data": {
      "text/plain": [
       "100"
      ]
     },
     "execution_count": 104,
     "metadata": {},
     "output_type": "execute_result"
    }
   ],
   "source": [
    "myHashTable.get('apples')"
   ]
  },
  {
   "cell_type": "code",
   "execution_count": 105,
   "metadata": {},
   "outputs": [
    {
     "data": {
      "text/plain": [
       "500"
      ]
     },
     "execution_count": 105,
     "metadata": {},
     "output_type": "execute_result"
    }
   ],
   "source": [
    "myHashTable.get('oranges')"
   ]
  },
  {
   "cell_type": "code",
   "execution_count": 106,
   "metadata": {},
   "outputs": [
    {
     "data": {
      "text/plain": [
       "['grapes', 'apples', 'oranges']"
      ]
     },
     "execution_count": 106,
     "metadata": {},
     "output_type": "execute_result"
    }
   ],
   "source": [
    "myHashTable.keys()"
   ]
  },
  {
   "cell_type": "code",
   "execution_count": 107,
   "metadata": {},
   "outputs": [
    {
     "ename": "Exception",
     "evalue": "Key not found",
     "output_type": "error",
     "traceback": [
      "\u001b[0;31m---------------------------------------------------------------------------\u001b[0m",
      "\u001b[0;31mException\u001b[0m                                 Traceback (most recent call last)",
      "\u001b[0;32m<ipython-input-107-f5b1dd87e599>\u001b[0m in \u001b[0;36m<module>\u001b[0;34m\u001b[0m\n\u001b[0;32m----> 1\u001b[0;31m \u001b[0mmyHashTable\u001b[0m\u001b[0;34m.\u001b[0m\u001b[0mget\u001b[0m\u001b[0;34m(\u001b[0m\u001b[0;34m'banana'\u001b[0m\u001b[0;34m)\u001b[0m\u001b[0;34m\u001b[0m\u001b[0;34m\u001b[0m\u001b[0m\n\u001b[0m",
      "\u001b[0;32m<ipython-input-100-ae4686b9b7b8>\u001b[0m in \u001b[0;36mget\u001b[0;34m(self, key)\u001b[0m\n\u001b[1;32m     37\u001b[0m                 \u001b[0;32mif\u001b[0m \u001b[0mcurrent_list\u001b[0m\u001b[0;34m[\u001b[0m\u001b[0mi\u001b[0m\u001b[0;34m]\u001b[0m\u001b[0;34m[\u001b[0m\u001b[0;36m0\u001b[0m\u001b[0;34m]\u001b[0m \u001b[0;34m==\u001b[0m \u001b[0mkey\u001b[0m\u001b[0;34m:\u001b[0m\u001b[0;34m\u001b[0m\u001b[0;34m\u001b[0m\u001b[0m\n\u001b[1;32m     38\u001b[0m                     \u001b[0;32mreturn\u001b[0m \u001b[0mcurrent_list\u001b[0m\u001b[0;34m[\u001b[0m\u001b[0mi\u001b[0m\u001b[0;34m]\u001b[0m\u001b[0;34m[\u001b[0m\u001b[0;36m1\u001b[0m\u001b[0;34m]\u001b[0m\u001b[0;34m\u001b[0m\u001b[0;34m\u001b[0m\u001b[0m\n\u001b[0;32m---> 39\u001b[0;31m             \u001b[0;32mraise\u001b[0m \u001b[0mException\u001b[0m\u001b[0;34m(\u001b[0m\u001b[0;34m\"Key not found\"\u001b[0m\u001b[0;34m)\u001b[0m\u001b[0;34m\u001b[0m\u001b[0;34m\u001b[0m\u001b[0m\n\u001b[0m\u001b[1;32m     40\u001b[0m         \u001b[0;32melse\u001b[0m\u001b[0;34m:\u001b[0m\u001b[0;34m\u001b[0m\u001b[0;34m\u001b[0m\u001b[0m\n\u001b[1;32m     41\u001b[0m             \u001b[0;32mraise\u001b[0m \u001b[0mException\u001b[0m\u001b[0;34m(\u001b[0m\u001b[0;34m\"Key not found\"\u001b[0m\u001b[0;34m)\u001b[0m\u001b[0;34m\u001b[0m\u001b[0;34m\u001b[0m\u001b[0m\n",
      "\u001b[0;31mException\u001b[0m: Key not found"
     ]
    }
   ],
   "source": [
    "myHashTable.get('banana')"
   ]
  },
  {
   "cell_type": "code",
   "execution_count": 45,
   "metadata": {},
   "outputs": [
    {
     "data": {
      "text/plain": [
       "0"
      ]
     },
     "execution_count": 45,
     "metadata": {},
     "output_type": "execute_result"
    }
   ],
   "source": [
    "len(a)"
   ]
  },
  {
   "cell_type": "code",
   "execution_count": 23,
   "metadata": {},
   "outputs": [
    {
     "data": {
      "text/plain": [
       "True"
      ]
     },
     "execution_count": 23,
     "metadata": {},
     "output_type": "execute_result"
    }
   ],
   "source": [
    "not myHashTable.data[0]"
   ]
  },
  {
   "cell_type": "code",
   "execution_count": 2,
   "metadata": {},
   "outputs": [
    {
     "data": {
      "text/plain": [
       "99"
      ]
     },
     "execution_count": 2,
     "metadata": {},
     "output_type": "execute_result"
    }
   ],
   "source": [
    "ord('c')"
   ]
  },
  {
   "cell_type": "code",
   "execution_count": null,
   "metadata": {},
   "outputs": [],
   "source": []
  }
 ],
 "metadata": {
  "kernelspec": {
   "display_name": "Python 3",
   "language": "python",
   "name": "python3"
  },
  "language_info": {
   "codemirror_mode": {
    "name": "ipython",
    "version": 3
   },
   "file_extension": ".py",
   "mimetype": "text/x-python",
   "name": "python",
   "nbconvert_exporter": "python",
   "pygments_lexer": "ipython3",
   "version": "3.9.1"
  }
 },
 "nbformat": 4,
 "nbformat_minor": 4
}
